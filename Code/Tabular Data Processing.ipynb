{
 "cells": [
  {
   "cell_type": "code",
   "execution_count": 1,
   "id": "ac3f6ec3",
   "metadata": {
    "execution": {
     "iopub.execute_input": "2025-05-21T10:01:34.973237Z",
     "iopub.status.busy": "2025-05-21T10:01:34.972906Z",
     "iopub.status.idle": "2025-05-21T10:01:50.303178Z",
     "shell.execute_reply": "2025-05-21T10:01:50.302184Z"
    },
    "papermill": {
     "duration": 15.336066,
     "end_time": "2025-05-21T10:01:50.304830",
     "exception": false,
     "start_time": "2025-05-21T10:01:34.968764",
     "status": "completed"
    },
    "tags": []
   },
   "outputs": [
    {
     "name": "stdout",
     "output_type": "stream",
     "text": [
      "Found existing installation: scikit-learn 1.2.2\r\n",
      "Uninstalling scikit-learn-1.2.2:\r\n",
      "  Successfully uninstalled scikit-learn-1.2.2\r\n",
      "\u001b[33mWARNING: Skipping imblearn as it is not installed.\u001b[0m\u001b[33m\r\n",
      "\u001b[0m\u001b[31mERROR: pip's dependency resolver does not currently take into account all the packages that are installed. This behaviour is the source of the following dependency conflicts.\r\n",
      "category-encoders 2.7.0 requires scikit-learn<1.6.0,>=1.0.0, but you have scikit-learn 1.6.1 which is incompatible.\r\n",
      "bigframes 1.36.0 requires rich<14,>=12.4.4, but you have rich 14.0.0 which is incompatible.\u001b[0m\u001b[31m\r\n",
      "\u001b[0mscikit-learn version: 1.6.1\n",
      "imblearn version: 0.13.0\n"
     ]
    }
   ],
   "source": [
    "# Uninstall old versions\n",
    "!pip uninstall -y scikit-learn imblearn\n",
    "\n",
    "# Install compatible versions\n",
    "!pip install scikit-learn>=1.3.0 imblearn\n",
    "\n",
    "# Verify installation\n",
    "import sklearn\n",
    "import imblearn\n",
    "print(f\"scikit-learn version: {sklearn.__version__}\")\n",
    "print(f\"imblearn version: {imblearn.__version__}\")"
   ]
  },
  {
   "cell_type": "code",
   "execution_count": 2,
   "id": "c939c20c",
   "metadata": {
    "execution": {
     "iopub.execute_input": "2025-05-21T10:01:50.311889Z",
     "iopub.status.busy": "2025-05-21T10:01:50.310973Z",
     "iopub.status.idle": "2025-05-21T10:01:50.316185Z",
     "shell.execute_reply": "2025-05-21T10:01:50.315230Z"
    },
    "papermill": {
     "duration": 0.010112,
     "end_time": "2025-05-21T10:01:50.317773",
     "exception": false,
     "start_time": "2025-05-21T10:01:50.307661",
     "status": "completed"
    },
    "tags": []
   },
   "outputs": [],
   "source": [
    "from sklearn.decomposition import PCA\n",
    "from imblearn.over_sampling import SMOTE\n",
    "import pandas as pd\n",
    "from sklearn.preprocessing import StandardScaler, LabelEncoder"
   ]
  },
  {
   "cell_type": "code",
   "execution_count": 3,
   "id": "3394d5a7",
   "metadata": {
    "_cell_guid": "b1076dfc-b9ad-4769-8c92-a6c4dae69d19",
    "_uuid": "8f2839f25d086af736a60e9eeb907d3b93b6e0e5",
    "execution": {
     "iopub.execute_input": "2025-05-21T10:01:50.324313Z",
     "iopub.status.busy": "2025-05-21T10:01:50.323634Z",
     "iopub.status.idle": "2025-05-21T10:01:50.361487Z",
     "shell.execute_reply": "2025-05-21T10:01:50.360707Z"
    },
    "papermill": {
     "duration": 0.042414,
     "end_time": "2025-05-21T10:01:50.362823",
     "exception": false,
     "start_time": "2025-05-21T10:01:50.320409",
     "status": "completed"
    },
    "tags": []
   },
   "outputs": [
    {
     "data": {
      "text/plain": [
       "array(['Egg weight (g)', 'Shape index', 'Egg_grade', 'Egg_freshness',\n",
       "       'Freshness_experiment', 'Grade_experiment'], dtype=object)"
      ]
     },
     "execution_count": 3,
     "metadata": {},
     "output_type": "execute_result"
    }
   ],
   "source": [
    "df = pd.read_csv(\"/kaggle/input/new-dataset/New-Egg-dataset-with-Train-Test.csv\")\n",
    "df = df[[\"Egg weight (g)\", \"Shape index\", \"Egg_grade\", \"Egg_freshness\", \"Freshness_experiment\", \"Grade_experiment\"]]\n",
    "df = df.dropna(subset=[\"Egg weight (g)\", \"Shape index\", \"Egg_grade\", \"Egg_freshness\", \"Freshness_experiment\", \"Grade_experiment\"])\n",
    "# df.head()\n",
    "columns = df.columns.values\n",
    "columns"
   ]
  },
  {
   "cell_type": "code",
   "execution_count": 4,
   "id": "71b134eb",
   "metadata": {
    "execution": {
     "iopub.execute_input": "2025-05-21T10:01:50.369043Z",
     "iopub.status.busy": "2025-05-21T10:01:50.368719Z",
     "iopub.status.idle": "2025-05-21T10:01:50.372915Z",
     "shell.execute_reply": "2025-05-21T10:01:50.372247Z"
    },
    "papermill": {
     "duration": 0.00882,
     "end_time": "2025-05-21T10:01:50.374233",
     "exception": false,
     "start_time": "2025-05-21T10:01:50.365413",
     "status": "completed"
    },
    "tags": []
   },
   "outputs": [],
   "source": [
    "# # 4 Class - Grade Data Generate\n",
    "\n",
    "# scaler = StandardScaler()\n",
    "# label_encoder = LabelEncoder()\n",
    "# pca = PCA(n_components=2)\n",
    "# smote = SMOTE(random_state=42)\n",
    "# scaled_features = scaler.fit_transform(df[[\"Egg weight (g)\", \"Shape index\"]])\n",
    "# y = label_encoder.fit_transform(df['Egg_grade'])\n",
    "\n",
    "\n",
    "# # oversampled_data, y_smote = smote.fit_resample(scaled_features, y)\n",
    "\n",
    "# # smote_cols = [f'SMOTE_Scaled_{columns[i]}' for i in range(oversampled_data.shape[1])]\n",
    "# smote_cols = [f'Scaled_{columns[i]}' for i in range(scaled_features.shape[1])]\n",
    "# scaled_df = pd.DataFrame(scaled_features, columns=smote_cols)\n",
    "# # new_df.head()\n",
    "\n",
    "# pca_data = pca.fit_transform(oversampled_data)\n",
    "# pca_cols = [f'PCA_{columns[i]}' for i in range(pca_data.shape[1])]\n",
    "# pca_df = pd.DataFrame(pca_data, columns=pca_cols)\n",
    "# target = label_encoder.inverse_transform(y_smote)\n",
    "\n",
    "# new_df = pd.concat([scaled_df, pca_df], axis=1)\n",
    "# new_df[\"Egg_Grade_4C\"] = target\n",
    "# shuffled_new_df = new_df.sample(frac=1, random_state=42).reset_index(drop=True)\n",
    "# shuffled_new_df.to_csv('Grade_4C_Tabular_Egg_Feature_Dataset.csv', index=False)"
   ]
  },
  {
   "cell_type": "code",
   "execution_count": 5,
   "id": "91b18709",
   "metadata": {
    "execution": {
     "iopub.execute_input": "2025-05-21T10:01:50.380289Z",
     "iopub.status.busy": "2025-05-21T10:01:50.379709Z",
     "iopub.status.idle": "2025-05-21T10:01:50.383562Z",
     "shell.execute_reply": "2025-05-21T10:01:50.382867Z"
    },
    "papermill": {
     "duration": 0.008172,
     "end_time": "2025-05-21T10:01:50.384860",
     "exception": false,
     "start_time": "2025-05-21T10:01:50.376688",
     "status": "completed"
    },
    "tags": []
   },
   "outputs": [],
   "source": [
    "# # 3 Class - Freshness Data Generate\n",
    "\n",
    "# scaler = StandardScaler()\n",
    "# label_encoder = LabelEncoder()\n",
    "# pca = PCA(n_components=2)\n",
    "# smote = SMOTE(random_state=42)\n",
    "# scaled_features = scaler.fit_transform(df[[\"Egg weight (g)\", \"Shape index\"]])\n",
    "# y = label_encoder.fit_transform(df['Egg_freshness'])\n",
    "\n",
    "\n",
    "# oversampled_data, y_smote = smote.fit_resample(scaled_features, y)\n",
    "\n",
    "# smote_cols = [f'SMOTE_Scaled_{columns[i]}' for i in range(oversampled_data.shape[1])]\n",
    "# scaled_df = pd.DataFrame(oversampled_data, columns=smote_cols)\n",
    "# # new_df.head()\n",
    "\n",
    "# pca_data = pca.fit_transform(oversampled_data)\n",
    "# pca_cols = [f'PCA_{columns[i]}' for i in range(pca_data.shape[1])]\n",
    "# pca_df = pd.DataFrame(pca_data, columns=pca_cols)\n",
    "# target = label_encoder.inverse_transform(y_smote)\n",
    "\n",
    "# new_df = pd.concat([scaled_df, pca_df], axis=1)\n",
    "# new_df[\"Egg_Freshness_3C\"] = target\n",
    "# shuffled_new_df = new_df.sample(frac=1, random_state=42).reset_index(drop=True)\n",
    "# shuffled_new_df.to_csv('Freshness_3C_Tabular_Egg_Feature_Dataset.csv', index=False)"
   ]
  },
  {
   "cell_type": "code",
   "execution_count": 6,
   "id": "e2004228",
   "metadata": {
    "execution": {
     "iopub.execute_input": "2025-05-21T10:01:50.390820Z",
     "iopub.status.busy": "2025-05-21T10:01:50.390560Z",
     "iopub.status.idle": "2025-05-21T10:01:50.461917Z",
     "shell.execute_reply": "2025-05-21T10:01:50.461012Z"
    },
    "papermill": {
     "duration": 0.076104,
     "end_time": "2025-05-21T10:01:50.463550",
     "exception": false,
     "start_time": "2025-05-21T10:01:50.387446",
     "status": "completed"
    },
    "tags": []
   },
   "outputs": [],
   "source": [
    "# 2 Class - Grade Data Generate\n",
    "\n",
    "def merge_class(cls):\n",
    "    if(cls == \"A\" or cls == \"AA\"):\n",
    "      return \"High\"\n",
    "    else:\n",
    "      return \"Low\"\n",
    "df['New_Egg_grade'] = df['Egg_grade'].apply(\n",
    "    lambda cls: merge_class(cls)\n",
    ")\n",
    "\n",
    "scaler = StandardScaler()\n",
    "label_encoder = LabelEncoder()\n",
    "pca = PCA(n_components=2)\n",
    "smote = SMOTE(random_state=42)\n",
    "scaled_features = scaler.fit_transform(df[[\"Egg weight (g)\", \"Shape index\"]])\n",
    "y = label_encoder.fit_transform(df['New_Egg_grade'])\n",
    "\n",
    "\n",
    "# oversampled_data, y_smote = smote.fit_resample(scaled_features, y)\n",
    "\n",
    "# smote_cols = [f'SMOTE_Scaled_{columns[i]}' for i in range(oversampled_data.shape[1])]\n",
    "smote_cols = [f'Scaled_{columns[i]}' for i in range(scaled_features.shape[1])]\n",
    "scaled_df = pd.DataFrame(scaled_features, columns=smote_cols)\n",
    "# new_df.head()\n",
    "\n",
    "pca_data = pca.fit_transform(scaled_features)\n",
    "pca_cols = [f'PCA_{columns[i]}' for i in range(pca_data.shape[1])]\n",
    "pca_df = pd.DataFrame(pca_data, columns=pca_cols)\n",
    "target = label_encoder.inverse_transform(y)\n",
    "\n",
    "new_df = pd.concat([scaled_df, pca_df], axis=1)\n",
    "new_df[\"Egg_Grade_2C\"] = target\n",
    "shuffled_new_df = new_df.sample(frac=1, random_state=42).reset_index(drop=True)\n",
    "shuffled_new_df.to_csv('No_Aug_Grade_2C_Tabular_Egg_Feature_Dataset.csv', index=False)"
   ]
  },
  {
   "cell_type": "code",
   "execution_count": 7,
   "id": "42c1f5a4",
   "metadata": {
    "execution": {
     "iopub.execute_input": "2025-05-21T10:01:50.470128Z",
     "iopub.status.busy": "2025-05-21T10:01:50.469603Z",
     "iopub.status.idle": "2025-05-21T10:01:50.489704Z",
     "shell.execute_reply": "2025-05-21T10:01:50.488745Z"
    },
    "papermill": {
     "duration": 0.0251,
     "end_time": "2025-05-21T10:01:50.491344",
     "exception": false,
     "start_time": "2025-05-21T10:01:50.466244",
     "status": "completed"
    },
    "tags": []
   },
   "outputs": [],
   "source": [
    "# 2 Class - Freshness Data Generate\n",
    "\n",
    "def merge_class(cls):\n",
    "    if(cls == \"Fresh\" or cls == \"ModeratelyFresh\"):\n",
    "      return \"New_Fresh\"\n",
    "    else:\n",
    "      return \"Old\"\n",
    "df['New_Egg_freshness'] = df['Egg_freshness'].apply(\n",
    "    lambda cls: merge_class(cls)\n",
    ")\n",
    "\n",
    "scaler = StandardScaler()\n",
    "label_encoder = LabelEncoder()\n",
    "pca = PCA(n_components=2)\n",
    "smote = SMOTE(random_state=42)\n",
    "scaled_features = scaler.fit_transform(df[[\"Egg weight (g)\", \"Shape index\"]])\n",
    "y = label_encoder.fit_transform(df['New_Egg_freshness'])\n",
    "\n",
    "\n",
    "# oversampled_data, y_smote = smote.fit_resample(scaled_features, y)\n",
    "\n",
    "# smote_cols = [f'SMOTE_Scaled_{columns[i]}' for i in range(oversampled_data.shape[1])]\n",
    "smote_cols = [f'Scaled_{columns[i]}' for i in range(scaled_features.shape[1])]\n",
    "scaled_df = pd.DataFrame(scaled_features, columns=smote_cols)\n",
    "# new_df.head()\n",
    "\n",
    "pca_data = pca.fit_transform(scaled_features)\n",
    "pca_cols = [f'PCA_{columns[i]}' for i in range(pca_data.shape[1])]\n",
    "pca_df = pd.DataFrame(pca_data, columns=pca_cols)\n",
    "target = label_encoder.inverse_transform(y)\n",
    "\n",
    "new_df = pd.concat([scaled_df, pca_df], axis=1)\n",
    "new_df[\"Egg_Freshness_2C\"] = target\n",
    "shuffled_new_df = new_df.sample(frac=1, random_state=42).reset_index(drop=True)\n",
    "shuffled_new_df.to_csv('No_Aug_Freshness_2C_Tabular_Egg_Feature_Dataset.csv', index=False)"
   ]
  }
 ],
 "metadata": {
  "kaggle": {
   "accelerator": "none",
   "dataSources": [
    {
     "datasetId": 6699567,
     "sourceId": 10795172,
     "sourceType": "datasetVersion"
    }
   ],
   "dockerImageVersionId": 31012,
   "isGpuEnabled": false,
   "isInternetEnabled": true,
   "language": "python",
   "sourceType": "notebook"
  },
  "kernelspec": {
   "display_name": "Python 3",
   "language": "python",
   "name": "python3"
  },
  "language_info": {
   "codemirror_mode": {
    "name": "ipython",
    "version": 3
   },
   "file_extension": ".py",
   "mimetype": "text/x-python",
   "name": "python",
   "nbconvert_exporter": "python",
   "pygments_lexer": "ipython3",
   "version": "3.11.11"
  },
  "papermill": {
   "default_parameters": {},
   "duration": 21.521953,
   "end_time": "2025-05-21T10:01:51.219142",
   "environment_variables": {},
   "exception": null,
   "input_path": "__notebook__.ipynb",
   "output_path": "__notebook__.ipynb",
   "parameters": {},
   "start_time": "2025-05-21T10:01:29.697189",
   "version": "2.6.0"
  }
 },
 "nbformat": 4,
 "nbformat_minor": 5
}
